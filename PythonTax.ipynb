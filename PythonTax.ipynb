{
  "nbformat": 4,
  "nbformat_minor": 0,
  "metadata": {
    "colab": {
      "name": "PythonTax.ipynb",
      "provenance": [],
      "collapsed_sections": []
    },
    "kernelspec": {
      "name": "python3",
      "display_name": "Python 3"
    },
    "language_info": {
      "name": "python"
    }
  },
  "cells": [
    {
      "cell_type": "code",
      "execution_count": 3,
      "metadata": {
        "id": "nhxhW43NLgdL",
        "colab": {
          "base_uri": "https://localhost:8080/"
        },
        "outputId": "b932587e-4e67-4070-f395-a6c7f5d62d3d"
      },
      "outputs": [
        {
          "output_type": "stream",
          "name": "stdout",
          "text": [
            "Enter the first number:10\n",
            "Enter the second number:2\n",
            "12\n",
            "8\n",
            "20\n",
            "5.0\n"
          ]
        }
      ],
      "source": [
        "x=int(input(\"Enter the first number:\"))\n",
        "y=int(input(\"Enter the second number:\"))\n",
        "print(x+y)\n",
        "print(x-y)\n",
        "print(x*y)\n",
        "print(x/y)"
      ]
    },
    {
      "cell_type": "code",
      "source": [
        "p=int(input(\"Enter the principle amount:\"))\n",
        "n=int(input(\"Enter the number of years:\"))\n",
        "r=int(input(\"Enter the interest rate:\"))\n",
        "i=p*n*r\n",
        "print(\"Interest amount:\",i)"
      ],
      "metadata": {
        "colab": {
          "base_uri": "https://localhost:8080/"
        },
        "id": "Fys_BL4tR-wa",
        "outputId": "52b99aa4-93cf-463d-8d80-b6332181fa0d"
      },
      "execution_count": 5,
      "outputs": [
        {
          "output_type": "stream",
          "name": "stdout",
          "text": [
            "Enter the principle amount:10000\n",
            "Enter the number of years:2\n",
            "Enter the interest rate:50\n",
            "Interest amount: 1000000\n"
          ]
        }
      ]
    },
    {
      "cell_type": "code",
      "source": [
        "print(\"Total deposit:\",p+i)"
      ],
      "metadata": {
        "colab": {
          "base_uri": "https://localhost:8080/"
        },
        "id": "mqnIlsdaWHuO",
        "outputId": "86eebf1b-2e2b-4864-d430-21d5102783f3"
      },
      "execution_count": 7,
      "outputs": [
        {
          "output_type": "stream",
          "name": "stdout",
          "text": [
            "Total deposit: 1010000\n"
          ]
        }
      ]
    },
    {
      "cell_type": "code",
      "source": [
        "b=int(input(\"Enter the Banking marks:\"))\n",
        "if b>50:\n",
        "  print(\"Passed\")\n",
        "else:\n",
        "  print(\"Failed\")\n"
      ],
      "metadata": {
        "id": "L4821Li9Xhg8"
      },
      "execution_count": null,
      "outputs": []
    },
    {
      "cell_type": "code",
      "source": [
        "s=int(input(\"Enter your salary:\"))\n",
        "if s>250000:\n",
        "  print(\"You are taxable\")\n",
        "  t=s-250000\n",
        "  if s<500000:\n",
        "    print(\"Your tax amount is\",t*10/100)\n",
        "  else:\n",
        "    print(\"Your tax amount is\",t*20/100)\n",
        "else:\n",
        "  print(\"You are not taxable\")"
      ],
      "metadata": {
        "colab": {
          "base_uri": "https://localhost:8080/"
        },
        "id": "qv8yoG1Iabty",
        "outputId": "af868b53-8942-474c-e932-c39cd2a4eb13"
      },
      "execution_count": 5,
      "outputs": [
        {
          "output_type": "stream",
          "name": "stdout",
          "text": [
            "Enter your salary:600000\n",
            "You are taxable\n",
            "Your tax amount is 70000.0\n"
          ]
        }
      ]
    },
    {
      "cell_type": "code",
      "source": [
        ""
      ],
      "metadata": {
        "id": "N4DPglH5d13D"
      },
      "execution_count": null,
      "outputs": []
    }
  ]
}